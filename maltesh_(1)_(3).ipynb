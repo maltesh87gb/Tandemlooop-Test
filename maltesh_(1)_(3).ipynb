{
  "cells": [
    {
      "cell_type": "markdown",
      "metadata": {
        "id": "view-in-github",
        "colab_type": "text"
      },
      "source": [
        "<a href=\"https://colab.research.google.com/github/maltesh87gb/Tandemlooop-Test/blob/main/maltesh_(1)_(3).ipynb\" target=\"_parent\"><img src=\"https://colab.research.google.com/assets/colab-badge.svg\" alt=\"Open In Colab\"/></a>"
      ]
    },
    {
      "cell_type": "markdown",
      "metadata": {
        "id": "-ZPDW53Z7qPG"
      },
      "source": [
        "1)"
      ]
    },
    {
      "cell_type": "code",
      "execution_count": null,
      "metadata": {
        "colab": {
          "base_uri": "https://localhost:8080/"
        },
        "id": "D9Jyod9P7mHP",
        "outputId": "0952cfc8-38ec-4eca-87dd-95ef97082116"
      },
      "outputs": [
        {
          "name": "stdout",
          "output_type": "stream",
          "text": [
            "Enter a: 1\n",
            "Enter b: 5\n",
            "Enter operator(+,-,*,/,%): *\n",
            "5.0\n"
          ]
        }
      ],
      "source": [
        "a=float(input(\"Enter a: \"))\n",
        "b=float(input(\"Enter b: \"))\n",
        "c=input(\"Enter operator(+,-,*,/,%): \")\n",
        "result=0\n",
        "if(c=='+'):\n",
        "  result=a+b;\n",
        "elif(c=='-'):\n",
        "  result=a-b;\n",
        "elif(c=='*'):\n",
        "  result=a*b\n",
        "elif((b==float('0')&(c=='/'))):\n",
        "  print('Divided by zero Error')\n",
        "elif(c=='/'):\n",
        "  result=a/b;\n",
        "elif(a%b):\n",
        "  result=a%b;\n",
        "print(result)\n"
      ]
    },
    {
      "cell_type": "markdown",
      "metadata": {
        "id": "vASVjDGntdOe"
      },
      "source": [
        "2)"
      ]
    },
    {
      "cell_type": "code",
      "execution_count": null,
      "metadata": {
        "colab": {
          "base_uri": "https://localhost:8080/"
        },
        "id": "-U1Vc-nfXPq6",
        "outputId": "6771d13a-b995-494e-a4ed-2743a5236c7b"
      },
      "outputs": [
        {
          "name": "stdout",
          "output_type": "stream",
          "text": [
            "Enter an integer: 5\n",
            "1,3,5,7,9\n"
          ]
        }
      ],
      "source": [
        "a=int(input(\"Enter an integer: \"))\n",
        "s=''\n",
        "count=0\n",
        "for i in range(1,a+1):\n",
        "  if s=='':\n",
        "    s+=str(i)\n",
        "  else:\n",
        "    s+=','+str(int(s[-1])+2)\n",
        "print(s)"
      ]
    },
    {
      "cell_type": "markdown",
      "metadata": {
        "id": "kvp3vYqftlZ3"
      },
      "source": [
        "3)"
      ]
    },
    {
      "cell_type": "code",
      "execution_count": null,
      "metadata": {
        "colab": {
          "base_uri": "https://localhost:8080/"
        },
        "id": "KSNfRy__pExE",
        "outputId": "cb89ce5d-d510-4471-ada2-4c523cb64f0b"
      },
      "outputs": [
        {
          "name": "stdout",
          "output_type": "stream",
          "text": [
            "Enter an integer: 5\n",
            "1,3,5,7,9\n"
          ]
        }
      ],
      "source": [
        "a=int(input(\"Enter an integer: \"))\n",
        "s=''\n",
        "count=0\n",
        "for i in range(1,a+1):\n",
        "  if s=='':\n",
        "    s+=str(i)\n",
        "  elif(i%2==0):\n",
        "    continue\n",
        "  else:\n",
        "      s+=','+str(int(s[-1])+2) +','+str(int(s[-1])+4)  \n",
        "print(s)"
      ]
    },
    {
      "cell_type": "markdown",
      "metadata": {
        "id": "GEuqdRjYtpgv"
      },
      "source": [
        "4)"
      ]
    },
    {
      "cell_type": "code",
      "execution_count": null,
      "metadata": {
        "colab": {
          "base_uri": "https://localhost:8080/"
        },
        "id": "PFbr_xO-tpAq",
        "outputId": "25f94c81-90ec-4e0c-c7ad-9bc181e847c3"
      },
      "outputs": [
        {
          "name": "stdout",
          "output_type": "stream",
          "text": [
            "Enter list elements by space separated: 1 2 8 9 12 46 76 82 15 20 30\n",
            "{1: 11, 2: 8, 3: 4, 4: 4, 5: 3, 6: 2, 7: 0, 8: 1, 9: 1}\n"
          ]
        }
      ],
      "source": [
        "my_list =[1,2,3,4,5,6,7,8,9]\n",
        "\n",
        "num_list=(input(\"Enter list elements by space separated: \"))\n",
        "num=num_list.split()\n",
        "int_num=[]\n",
        "for i in num:\n",
        "    int_num.insert(num.index(i),(int(i)))\n",
        "\n",
        "freq = {}\n",
        "for item in my_list:\n",
        "    count=0\n",
        "    for i in int_num:\n",
        "        if(i%item==0):\n",
        "            count+=1\n",
        "    freq[item] = count\n",
        "print(freq)\n"
      ]
    }
  ],
  "metadata": {
    "colab": {
      "collapsed_sections": [],
      "name": "maltesh (1) (3).ipynb",
      "provenance": [],
      "include_colab_link": true
    },
    "kernelspec": {
      "display_name": "Python 3",
      "name": "python3"
    },
    "language_info": {
      "name": "python"
    }
  },
  "nbformat": 4,
  "nbformat_minor": 0
}